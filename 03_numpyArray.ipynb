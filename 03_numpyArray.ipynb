{
 "cells": [
  {
   "cell_type": "code",
   "execution_count": 1,
   "metadata": {},
   "outputs": [],
   "source": [
    "import numpy as np"
   ]
  },
  {
   "cell_type": "code",
   "execution_count": 2,
   "metadata": {},
   "outputs": [],
   "source": [
    "arr=np.array([[1,2,3],[4,5,6]])"
   ]
  },
  {
   "cell_type": "code",
   "execution_count": 3,
   "metadata": {},
   "outputs": [
    {
     "name": "stdout",
     "output_type": "stream",
     "text": [
      "(2, 3)\n",
      "6\n",
      "2\n",
      "int32\n"
     ]
    }
   ],
   "source": [
    "print(np.shape(arr))\n",
    "# print(arr.shape)\n",
    "print(np.size(arr))\n",
    "# print(arr.size)\n",
    "print(np.ndim(arr))\n",
    "print(arr.dtype)\n",
    "# print(type(arr))"
   ]
  },
  {
   "cell_type": "markdown",
   "metadata": {},
   "source": [
    "Mathematical operations"
   ]
  },
  {
   "cell_type": "code",
   "execution_count": 4,
   "metadata": {},
   "outputs": [],
   "source": [
    "arr1=np.array([1,2,3,4])\n",
    "arr2=np.array([2])"
   ]
  },
  {
   "cell_type": "code",
   "execution_count": 5,
   "metadata": {},
   "outputs": [
    {
     "name": "stdout",
     "output_type": "stream",
     "text": [
      "[3 4 5 6]\n",
      "[-1  0  1  2]\n",
      "[2 4 6 8]\n",
      "[0.5 1.  1.5 2. ]\n",
      "[ 1  4  9 16]\n",
      "[1.         1.41421356 1.73205081 2.        ]\n",
      "[1 2 3 4 2]\n",
      "[1 2 3 4 2]\n",
      "[1 2 3 4] [2]\n",
      "[2 4 5 6]\n",
      "[[1 2 3 4]\n",
      " [2 4 5 6]]\n"
     ]
    }
   ],
   "source": [
    "print(np.add(arr1,arr2))\n",
    "# print(arr1+arr2)\n",
    "print(np.subtract(arr1,arr2))\n",
    "# print(arr1-arr2)\n",
    "print(np.multiply(arr1,arr2))\n",
    "# print(arr1*arr2)\n",
    "print(np.divide(arr1,arr2))\n",
    "# print(arr1/arr2)\n",
    "print(np.power(arr1,arr2))\n",
    "print(np.sqrt(arr1))\n",
    "print(np.concatenate([arr1,arr2]))      #,axis=1 for vertical concationation\n",
    "print(np.hstack([arr1,arr2]))   #Horizontal concatination\n",
    "print(arr1,arr2)\n",
    "arr2=np.insert(arr2,[1,1,1],[4,5,6])\n",
    "print(arr2)\n",
    "print(np.vstack([arr1,arr2]))   #Vertical concatination"
   ]
  },
  {
   "cell_type": "code",
   "execution_count": 6,
   "metadata": {},
   "outputs": [
    {
     "name": "stdout",
     "output_type": "stream",
     "text": [
      "[ 1  2  3  4 12]\n",
      "[array([1, 2]), array([3, 4])]\n",
      "[ 1 14  2  3  4]\n"
     ]
    }
   ],
   "source": [
    "print(np.append(arr1,12))\n",
    "print(np.array_split(arr1,2))\n",
    "print(np.insert(arr1, 1, 14))\n"
   ]
  },
  {
   "cell_type": "code",
   "execution_count": 7,
   "metadata": {},
   "outputs": [
    {
     "name": "stdout",
     "output_type": "stream",
     "text": [
      "Normal insert\n",
      " [ 1 20 40  2  2  3]\n",
      "Insert with axis=0\n",
      " [[ 1  2]\n",
      " [20 40]\n",
      " [ 2  3]]\n",
      "Insert with axis=1\n",
      " [[  1 100   2]\n",
      " [  2 400   3]]\n"
     ]
    }
   ],
   "source": [
    "a=np.array([[1,2],[2,3]])\n",
    "print(\"Normal insert\\n\",np.insert(a,1,[20,40]))\n",
    "print(\"Insert with axis=0\\n\",np.insert(a,1,[20,40],axis=0))\n",
    "print(\"Insert with axis=1\\n\",np.insert(a,1,[100,400], axis=1))"
   ]
  },
  {
   "cell_type": "code",
   "execution_count": 8,
   "metadata": {},
   "outputs": [
    {
     "name": "stdout",
     "output_type": "stream",
     "text": [
      "[[2]\n",
      " [3]]\n",
      "[[2 3]]\n",
      "(array([1], dtype=int64), array([1], dtype=int64))\n"
     ]
    }
   ],
   "source": [
    "print(np.delete(a,0,axis=1))\n",
    "print(np.delete(a,0,axis=0))\n",
    "print(np.where(a==3))"
   ]
  },
  {
   "cell_type": "markdown",
   "metadata": {},
   "source": [
    "Stastistical Functions"
   ]
  },
  {
   "cell_type": "code",
   "execution_count": 9,
   "metadata": {},
   "outputs": [
    {
     "name": "stdout",
     "output_type": "stream",
     "text": [
      "[[1 2]\n",
      " [2 3]]\n",
      "0.7071067811865476\n",
      "0.5\n",
      "2.0\n",
      "2.0\n",
      "[1 3 5 8]\n",
      "[ 1  2  4 12]\n"
     ]
    }
   ],
   "source": [
    "print(a)\n",
    "print(np.std(a))\n",
    "print(np.var(a))\n",
    "print(np.mean(a))\n",
    "print(np.median(a))\n",
    "print(np.cumsum(a))\n",
    "print(np.cumprod(a))"
   ]
  },
  {
   "cell_type": "code",
   "execution_count": 10,
   "metadata": {},
   "outputs": [
    {
     "name": "stdout",
     "output_type": "stream",
     "text": [
      "[[ 1.         -0.97091858]\n",
      " [-0.97091858  1.        ]]\n"
     ]
    }
   ],
   "source": [
    "price=[100,200,250,200]\n",
    "sales=[50,25,21,25]\n",
    "print(np.corrcoef([price,sales]))   #Finds correlation between data"
   ]
  },
  {
   "cell_type": "code",
   "execution_count": null,
   "metadata": {},
   "outputs": [],
   "source": []
  }
 ],
 "metadata": {
  "kernelspec": {
   "display_name": "Python 3",
   "language": "python",
   "name": "python3"
  },
  "language_info": {
   "codemirror_mode": {
    "name": "ipython",
    "version": 3
   },
   "file_extension": ".py",
   "mimetype": "text/x-python",
   "name": "python",
   "nbconvert_exporter": "python",
   "pygments_lexer": "ipython3",
   "version": "3.12.0"
  }
 },
 "nbformat": 4,
 "nbformat_minor": 2
}
